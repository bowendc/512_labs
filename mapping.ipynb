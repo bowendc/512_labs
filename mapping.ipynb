{
 "cells": [
  {
   "cell_type": "markdown",
   "id": "b5c6076a",
   "metadata": {},
   "source": [
    "# Thematic Mapping using R\n",
    "\n",
    "In this learning activity, we will cover the basic process to display spatial data with your audience using R. While other GIS software can do more, the functionality in R is fairly robust for most policy use-cases. Further, it has the advantages of being free and working easily with the other types of data and models with which you are familiar. \n",
    "\n",
    "There are several important packages, including **{sf}** (for interacting with and processing vector data in R), **{terra}** (for working with raster data, although we won't do much here), **{tigris}** and **{tidycensus}** for accessing spatial data from the U.S. Census, and more. The first time you install these packages, you might need to install some dependencies on your system. Be prepared for it to take a few minutes.  "
   ]
  },
  {
   "cell_type": "code",
   "execution_count": null,
   "id": "e81d1dda",
   "metadata": {
    "vscode": {
     "languageId": "r"
    }
   },
   "outputs": [],
   "source": [
    "# the pacman package allows you to check if a package is installed, \n",
    "# then load the package if installed and install it - then load it,\n",
    "# if not already installed. Let's try it out!\n",
    "\n",
    "# if needed, install pacman\n",
    "install.packages('pacman')\n",
    "\n",
    "pacman::p_load(\n",
    "    tidyverse,      # tidy data management + graphing\n",
    "    sf,             # spatial data management and processing\n",
    "    tigris,         # downloading GIS files from Census\n",
    "    tidycensus,     # downloading census data + GIS\n",
    "    terra,          # raster data functions\n",
    "    basemaps,       # download and use raster basemaps\n",
    "    ggnewscale      # add new scale attributes to ggplot\n",
    ")"
   ]
  },
  {
   "cell_type": "markdown",
   "id": "86a0da5a",
   "metadata": {
    "vscode": {
     "languageId": "r"
    }
   },
   "source": [
    "We can use **{tidycensus}**'s `load_variables()` function to find variable names from the Census. Let's look for poverty in the 2023 American Community Survey, 5-year estimates."
   ]
  },
  {
   "cell_type": "code",
   "execution_count": null,
   "id": "f81d2511",
   "metadata": {
    "vscode": {
     "languageId": "r"
    }
   },
   "outputs": [],
   "source": [
    "v2023 <- load_variables(year = 2023, dataset = \"acs5\")\n",
    "\n",
    "view(v2023)"
   ]
  },
  {
   "cell_type": "markdown",
   "id": "741f71dd",
   "metadata": {},
   "source": [
    "Now we can use `get_acs()` to download the data by U.S. county. However, this time, we will *also* grab the geographic data using the `geometry` argument below."
   ]
  },
  {
   "cell_type": "code",
   "execution_count": null,
   "id": "9c4ed9b4",
   "metadata": {
    "vscode": {
     "languageId": "r"
    }
   },
   "outputs": [],
   "source": [
    "\n",
    "df <- get_acs(geography = \"county\", \n",
    "              variables = c(total = \"B16009_001\",\n",
    "                            poverty.count = \"B16009_002\"),\n",
    "              geometry = TRUE,                              # says we want geography data, stored as a sf object\n",
    "              cb = FALSE)                                   # if TRUE, means simplified boundaries\n",
    "\n",
    "df2 <- df |> select(-moe) |>                                # drop the `moe` variable from data\n",
    "             pivot_wider(names_from = variable,             # converts long data to wide data\n",
    "              values_from = estimate) |>       \n",
    "             mutate(pct.poverty = 100 * poverty.count / total) |> # creates percent variable\n",
    "             filter(substr(GEOID, 1,2) != \"72\" &            # drops Puerto Rico, Alaska, and Hawaii\n",
    "              substr(GEOID, 1,2) != \"02\" & \n",
    "              substr(GEOID, 1,2) != \"15\")\n"
   ]
  },
  {
   "cell_type": "markdown",
   "id": "069bbf9d",
   "metadata": {},
   "source": [
    "We can use our friendly neighborhood `ggplot()` for mapping. For perhaps an easier alternative, check out [`tmap`](https://r-tmap.github.io/tmap/). Maps are made using `geom_sf`. While we map, we will make liberal use of **{ggnewscale}**, because `ggplot` only lets you define one *fill* attribute layer at a time. We'll use `new_scale_fill` to add more layers. "
   ]
  },
  {
   "cell_type": "code",
   "execution_count": null,
   "id": "9c4f9804",
   "metadata": {
    "vscode": {
     "languageId": "r"
    }
   },
   "outputs": [],
   "source": [
    "ggplot(df2, aes(fill = pct.poverty)) +      # identify data and fill variable\n",
    "    geom_sf() +                             # identifies a map as the `geom`\n",
    "    scale_fill_viridis_c()                  # uses the continuous viridis color scheme for fill"
   ]
  },
  {
   "cell_type": "markdown",
   "id": "ca331442",
   "metadata": {},
   "source": [
    "Not too bad. Let's see what this looks like when we re-project using Albers Equal Area Conic (very typical for maps of the contiguous U.S.). You can find the EPSG codes that you can use to load different projections [here](https://epsg.io/?q=), among other places."
   ]
  },
  {
   "cell_type": "code",
   "execution_count": null,
   "id": "10d39735",
   "metadata": {
    "vscode": {
     "languageId": "r"
    }
   },
   "outputs": [],
   "source": [
    "# st_transform() will project or transform data to a different coordinate reference system\n",
    "df2_albers <- st_transform(df2, crs = \"EPSG:5069\")"
   ]
  },
  {
   "cell_type": "markdown",
   "id": "454f5b7b",
   "metadata": {},
   "source": [
    "Before we remake the map, let's also make the county boundary lines smaller, move the legend around and give it a title, and get rid of the coordinates on the axis (typically not needed for thematic mapping)."
   ]
  },
  {
   "cell_type": "code",
   "execution_count": null,
   "id": "0312b783",
   "metadata": {
    "vscode": {
     "languageId": "r"
    }
   },
   "outputs": [],
   "source": [
    "ggplot(df2_albers, aes(fill = pct.poverty)) + \n",
    "            geom_sf(linewidth = .05) +                  # shrinks polygon boundaries\n",
    "            scale_fill_viridis_c() +\n",
    "                labs(fill = \"Poverty (%)\") +            # changes title of fill legend\n",
    "                guides(fill = guide_legend(position = \"inside\")) +  # moves legend inside the plot\n",
    "            theme_void() +                              # removes axis scales and grids\n",
    "            theme(\n",
    "                legend.position.inside = c(0.9, 0.225)  # places legend at 90% on x axis and 22.5% on y\n",
    "            )                                           # of plot space"
   ]
  },
  {
   "cell_type": "markdown",
   "id": "a6919dc2",
   "metadata": {},
   "source": [
    "We can have some more fun with this. This time, let's make our own color scale using HEX color codes. In the code below, we replace `scale_fill_viridis_c()` with `scale_fill_gradientn()`, which allows to specify a number of colors to use in our scale."
   ]
  },
  {
   "cell_type": "code",
   "execution_count": null,
   "id": "52bb64cb",
   "metadata": {
    "vscode": {
     "languageId": "r"
    }
   },
   "outputs": [],
   "source": [
    "ggplot(df2_albers, aes(fill = pct.poverty)) + \n",
    "        geom_sf(linewidth = .05) +\n",
    "        scale_fill_gradientn(colors = c(\"#283747\",\"white\", \"#d35400\")) +\n",
    "        labs(fill = \"Poverty (%)\") +\n",
    "        guides(fill = guide_legend(position = \"inside\")) +\n",
    "        theme_void() +\n",
    "        theme(\n",
    "            legend.position.inside = c(0.9, 0.225)\n",
    "        )"
   ]
  },
  {
   "cell_type": "markdown",
   "id": "568c0de8",
   "metadata": {},
   "source": [
    "This looks nice. Now you try! Create your own county map of poverty, this time choosing your own, self-designed color scheme using `scale_fill_gradientn()`."
   ]
  },
  {
   "cell_type": "markdown",
   "id": "d3e2bd8e",
   "metadata": {},
   "source": [
    "Typically, we want to use more than one layer. For example, we might want to include state boundary lines to help our viewers understand where these counties are located. We can load just geographic data from the Census using functions from **{tigris}** package. "
   ]
  },
  {
   "cell_type": "code",
   "execution_count": null,
   "id": "6e3bc727",
   "metadata": {
    "vscode": {
     "languageId": "r"
    }
   },
   "outputs": [],
   "source": [
    "states <- states(year = 2023)                           # states() from tigris will get state boundaries\n",
    "states <- states |> filter(as.numeric(GEOID)<=56 & \n",
    "                            STUSPS != \"AK\" &            # filter out territories and AK and HI\n",
    "                            STUSPS != \"HI\")\n",
    "                            \n",
    "states_albers <- st_transform(states, crs =\"EPSG:5069\") # project to Albers"
   ]
  },
  {
   "cell_type": "markdown",
   "id": "215a7c31",
   "metadata": {},
   "source": [
    "In order to add another layer, we need to use `new_scale_fill()`, which resets the fill attributes and allows us to present another polygon layer. "
   ]
  },
  {
   "cell_type": "code",
   "execution_count": null,
   "id": "f651af63",
   "metadata": {
    "vscode": {
     "languageId": "r"
    }
   },
   "outputs": [],
   "source": [
    "ggplot() +\n",
    "    geom_sf(df2_albers, mapping = aes(fill = pct.poverty), \n",
    "                         linewidth = .05) +\n",
    "    scale_fill_gradientn(colors = c(\"#283747\",\"white\", \"#d35400\")) +\n",
    "    labs(fill = \"Poverty (%)\") +\n",
    "    guides(fill = guide_legend(position = \"inside\")) +\n",
    "    theme_void() +\n",
    "    theme(\n",
    "          legend.position.inside = c(0.9, 0.225)) +\n",
    "    new_scale_fill() +                              # need to place the new layers at the end\n",
    "        geom_sf(data = states_albers,           \n",
    "            color = \"grey15\",\n",
    "            fill = \"transparent\") +                 # makes transparent polygons\n",
    "            scale_fill_identity()                   # required to map the boundaries instead of a variable\n"
   ]
  },
  {
   "cell_type": "markdown",
   "id": "e9211b46",
   "metadata": {},
   "source": [
    "That was fun. Let's try one more map. This time, we will make a map of poverty in Appalachia, a region that spans portions of over a dozen states. The csv file below lists the county FIPS codes of all counties included in the Appalachian Regional Commission ([source](https://www.arc.gov/appalachian-counties-served-by-arc/))."
   ]
  },
  {
   "cell_type": "code",
   "execution_count": null,
   "id": "6a0b035f",
   "metadata": {
    "vscode": {
     "languageId": "r"
    }
   },
   "outputs": [],
   "source": [
    "\n",
    "appalachia <- read.csv(\"https://raw.githubusercontent.com/bowendc/512_labs/refs/heads/main/appalachia.csv\",\n",
    "                       col.names = \"fips\",       # rename the single variable\n",
    "                       colClasses = \"character\") # code as character so that leading zeros aren't dropped\n",
    "\n",
    "fips <- as.list(appalachia$fips)  # convert to list\n"
   ]
  },
  {
   "cell_type": "markdown",
   "id": "dd617fb5",
   "metadata": {},
   "source": [
    "**{sf}** makes it very easy to process geospatial data because we can use the same `dplyr` functions for data management that we are already used to and familiar with. "
   ]
  },
  {
   "cell_type": "code",
   "execution_count": null,
   "id": "eb9af51c",
   "metadata": {
    "vscode": {
     "languageId": "r"
    }
   },
   "outputs": [],
   "source": [
    "df3 <- df2 |> \n",
    "            filter(GEOID %in% fips) |>       # keep just counties in our appalachia list\n",
    "            st_transform(crs = st_crs(3857)) # transform to Web Mercator projection\n"
   ]
  },
  {
   "cell_type": "markdown",
   "id": "caeca31f",
   "metadata": {},
   "source": [
    "Map it. This time we use a different, pre-programmed viridis color scheme and remove county boundary lines altogether."
   ]
  },
  {
   "cell_type": "code",
   "execution_count": null,
   "id": "a0b3f3fa",
   "metadata": {
    "vscode": {
     "languageId": "r"
    }
   },
   "outputs": [],
   "source": [
    "ggplot() + \n",
    "      geom_sf(data = df3,  aes(fill = pct.poverty),\n",
    "            linewidth = 0) +\n",
    "        scale_fill_viridis_c(option = \"A\") +\n",
    "      theme_void()"
   ]
  },
  {
   "cell_type": "markdown",
   "id": "e2c81754",
   "metadata": {},
   "source": [
    "On occasion, you may want to utilize basemaps: raster data that shows static information like topography, roads, labels, rivers, etc. The **{basemaps}** package let's you download these layers based on the extent of your data and include directly on your graph. *Note: I had to install the **{terra}** package before I could install and use **{basemaps}**.* Please review the [package website to see what map services and basemap types](https://jakob.schwalb-willmann.de/basemaps/index.html#supported-services-and-maps) are available. Some require you to register to access before you can download using the package. \n",
    "\n",
    "For this map, we will use a hillshade basemap. Hillshade is exactly what it sounds like; it provides shading based on topography so that elevation changes can be subtly viewed through shading. It is one way of visualizing terrain. "
   ]
  },
  {
   "cell_type": "code",
   "execution_count": null,
   "id": "cc08a912",
   "metadata": {
    "vscode": {
     "languageId": "r"
    }
   },
   "outputs": [],
   "source": [
    "ggplot() + \n",
    "  basemap_gglayer(df3,               # downloads basemap and adds as ggplot layer of df3 extent\n",
    "    map_service = \"esri\",            # sets map service\n",
    "    map_type = \"world_hillshade\")  + # chooses which basemap to use from service\n",
    "  scale_fill_identity() +            # required for basemap\n",
    "  new_scale_fill() +                 # add new data fill layer\n",
    "  geom_sf(data = df3,  \n",
    "          aes(fill = pct.poverty), \n",
    "          alpha = .4,                 # make partially transparent so we can see hillshade\n",
    "          linewidth = 0) +\n",
    "  scale_fill_viridis_c(option = \"G\",      # choose different viridis scheme\n",
    "                       direction = -1) +  # and flips so lighter is lower and darker is higher \n",
    "    labs(fill = \"Poverty (%)\") +\n",
    "    guides(fill = guide_legend(position = \"bottom\")) +\n",
    "    theme_void() +\n",
    "    theme(legend.justification.bottom = \"center\")\n"
   ]
  },
  {
   "cell_type": "markdown",
   "id": "eb85909b",
   "metadata": {},
   "source": [
    "Play around with the basemaps. Find another basemap other then ESRI's hillshade maps that you like and can use as a layer underneath your poverty data. Display this new map in Quarto-rendered pdf. "
   ]
  }
 ],
 "metadata": {
  "kernelspec": {
   "display_name": "R",
   "language": "R",
   "name": "ir"
  },
  "language_info": {
   "codemirror_mode": "r",
   "file_extension": ".r",
   "mimetype": "text/x-r-source",
   "name": "R",
   "pygments_lexer": "r",
   "version": "4.4.3"
  }
 },
 "nbformat": 4,
 "nbformat_minor": 5
}
